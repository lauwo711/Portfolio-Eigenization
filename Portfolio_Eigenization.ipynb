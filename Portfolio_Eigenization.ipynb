{
 "cells": [
  {
   "cell_type": "markdown",
   "metadata": {},
   "source": [
    "**Foreword**<br><br>\n",
    "Inspired by Google PageRank, it is also possible to linearize the high dimensional stock data set by solving the Eigen Vectors.<br>\n",
    "Here illustrate how Eigen Vector helps PageRank problem.<br>\n",
    "https://www.intmath.com/matrices-determinants/8-applications-eigenvalues-eigenvectors.php<br>\n",
    "<br>\n",
    "**Principal Component Analysis**<br><br>\n",
    "In PCA, variance of a n-dimensional data set can be represented by n Eigen Vectors (EVec).<br>\n",
    "Reference for Eigen Vector.<br>\n",
    "http://mathworld.wolfram.com/Eigenvalue.html<br>\n",
    "\n",
    "Similarly, supposed we have n stocks in the portfolio. There are n EVec to explain their variance.<br>\n",
    "The EVec with the largest Eigen Value (EVal) explains the variance the most, and so on.<br>\n",
    "\n",
    "**Short notes for Eigen Decomposition**<br><br>\n",
    "Since different stock prices are not on the same scale, the covariance matrix $\\Sigma$ should be used.<br>\n",
    "After Eigen decomposition of $\\Sigma$ ,we can find the set of EVec and Eval.<br><br>\n",
    "&emsp;&emsp;&emsp;&emsp;&emsp;&emsp;&emsp;$\\Sigma$ = $Q$&ensp;$V$&ensp;$Q^T$<br>\n",
    "&emsp;&emsp;&emsp;&emsp;&emsp;&emsp;&emsp;&emsp;&emsp; where $Q$ consists of EVec, and diagonal matrix $V$ contains EVal.<br>\n",
    "\n",
    "The EVec is then divided by sum of its elements, to get the stocks weight.<br>\n",
    "\n",
    "**How many EVec we need?**<br><br>\n",
    "If the sum the first n largest EVal =0.9, it means 90% of variance can be explained by that n EVec.<br>\n",
    "\n",
    "The below function returns that n EVec."
   ]
  },
  {
   "cell_type": "code",
   "execution_count": null,
   "metadata": {},
   "outputs": [],
   "source": [
    "# find eigen vectors that explain more than threshold% of variation\n",
    "def eigen_weight(cov,threshold):\n",
    "    E_Val, E_Vec = np.linalg.eigh(cov)   # E_Val = Variances of  n stocks\n",
    "    \n",
    "    start=0\n",
    "    for i in range(len(E_Val)):\n",
    "        start += E_Val[-i-1]/sum(E_Val)\n",
    "        if start >= threshold:\n",
    "            w = E_Vec[:,-i-1:]/sum(E_Vec[:,-i-1:]) # divided by sum of vector to get weight\n",
    "            return np.flip(w,axis=1)               # flip to make first column correspond to the largest eigen value\n",
    "            break"
   ]
  },
  {
   "cell_type": "markdown",
   "metadata": {},
   "source": [
    "**Testing with US stocks**<br><br>\n",
    "The code below compares different allocation objectives: <br>\n",
    "1. Minimize Variance\n",
    "2. Maximize Sharpe Ratio\n",
    "3. Eigen weights\n",
    "\n",
    "Please refer \n",
    "https://github.com/lauwo711/Portfolio-Optimization/blob/master/Portfolio-Optimization.ipynb <br>\n",
    "for some functions below."
   ]
  },
  {
   "cell_type": "code",
   "execution_count": 1,
   "metadata": {},
   "outputs": [
    {
     "name": "stdout",
     "output_type": "stream",
     "text": [
      "[*********************100%***********************]  10 of 10 completed\n"
     ]
    },
    {
     "data": {
      "text/html": [
       "<style  type=\"text/css\" >\n",
       "</style><table id=\"T_92906058_3b9d_11ea_8d38_ac87a331a2fb\" ><thead>    <tr>        <th class=\"blank level0\" ></th>        <th class=\"col_heading level0 col0\" >min_var_weight_LM</th>        <th class=\"col_heading level0 col1\" >min_var_weight_no_ss</th>        <th class=\"col_heading level0 col2\" >max_sharpe_weight_no_ss</th>        <th class=\"col_heading level0 col3\" >eigen_1</th>        <th class=\"col_heading level0 col4\" >eigen_2</th>        <th class=\"col_heading level0 col5\" >eigen_3</th>        <th class=\"col_heading level0 col6\" >eigen_4</th>        <th class=\"col_heading level0 col7\" >eigen_5</th>        <th class=\"col_heading level0 col8\" >eigen_6</th>        <th class=\"col_heading level0 col9\" >eigen_7</th>    </tr></thead><tbody>\n",
       "                <tr>\n",
       "                        <th id=\"T_92906058_3b9d_11ea_8d38_ac87a331a2fblevel0_row0\" class=\"row_heading level0 row0\" >WMT</th>\n",
       "                        <td id=\"T_92906058_3b9d_11ea_8d38_ac87a331a2fbrow0_col0\" class=\"data row0 col0\" >14.5%</td>\n",
       "                        <td id=\"T_92906058_3b9d_11ea_8d38_ac87a331a2fbrow0_col1\" class=\"data row0 col1\" >14.3%</td>\n",
       "                        <td id=\"T_92906058_3b9d_11ea_8d38_ac87a331a2fbrow0_col2\" class=\"data row0 col2\" >6.5%</td>\n",
       "                        <td id=\"T_92906058_3b9d_11ea_8d38_ac87a331a2fbrow0_col3\" class=\"data row0 col3\" >4.8%</td>\n",
       "                        <td id=\"T_92906058_3b9d_11ea_8d38_ac87a331a2fbrow0_col4\" class=\"data row0 col4\" >9.7%</td>\n",
       "                        <td id=\"T_92906058_3b9d_11ea_8d38_ac87a331a2fbrow0_col5\" class=\"data row0 col5\" >37.9%</td>\n",
       "                        <td id=\"T_92906058_3b9d_11ea_8d38_ac87a331a2fbrow0_col6\" class=\"data row0 col6\" >68.2%</td>\n",
       "                        <td id=\"T_92906058_3b9d_11ea_8d38_ac87a331a2fbrow0_col7\" class=\"data row0 col7\" >173.8%</td>\n",
       "                        <td id=\"T_92906058_3b9d_11ea_8d38_ac87a331a2fbrow0_col8\" class=\"data row0 col8\" >403.9%</td>\n",
       "                        <td id=\"T_92906058_3b9d_11ea_8d38_ac87a331a2fbrow0_col9\" class=\"data row0 col9\" >-265.7%</td>\n",
       "            </tr>\n",
       "            <tr>\n",
       "                        <th id=\"T_92906058_3b9d_11ea_8d38_ac87a331a2fblevel0_row1\" class=\"row_heading level0 row1\" >AMZN</th>\n",
       "                        <td id=\"T_92906058_3b9d_11ea_8d38_ac87a331a2fbrow1_col0\" class=\"data row1 col0\" >2.8%</td>\n",
       "                        <td id=\"T_92906058_3b9d_11ea_8d38_ac87a331a2fbrow1_col1\" class=\"data row1 col1\" >1.3%</td>\n",
       "                        <td id=\"T_92906058_3b9d_11ea_8d38_ac87a331a2fbrow1_col2\" class=\"data row1 col2\" >16.5%</td>\n",
       "                        <td id=\"T_92906058_3b9d_11ea_8d38_ac87a331a2fbrow1_col3\" class=\"data row1 col3\" >13.6%</td>\n",
       "                        <td id=\"T_92906058_3b9d_11ea_8d38_ac87a331a2fbrow1_col4\" class=\"data row1 col4\" >24.1%</td>\n",
       "                        <td id=\"T_92906058_3b9d_11ea_8d38_ac87a331a2fbrow1_col5\" class=\"data row1 col5\" >-126.9%</td>\n",
       "                        <td id=\"T_92906058_3b9d_11ea_8d38_ac87a331a2fbrow1_col6\" class=\"data row1 col6\" >-17.4%</td>\n",
       "                        <td id=\"T_92906058_3b9d_11ea_8d38_ac87a331a2fbrow1_col7\" class=\"data row1 col7\" >47.4%</td>\n",
       "                        <td id=\"T_92906058_3b9d_11ea_8d38_ac87a331a2fbrow1_col8\" class=\"data row1 col8\" >925.1%</td>\n",
       "                        <td id=\"T_92906058_3b9d_11ea_8d38_ac87a331a2fbrow1_col9\" class=\"data row1 col9\" >13.4%</td>\n",
       "            </tr>\n",
       "            <tr>\n",
       "                        <th id=\"T_92906058_3b9d_11ea_8d38_ac87a331a2fblevel0_row2\" class=\"row_heading level0 row2\" >T</th>\n",
       "                        <td id=\"T_92906058_3b9d_11ea_8d38_ac87a331a2fbrow2_col0\" class=\"data row2 col0\" >21.8%</td>\n",
       "                        <td id=\"T_92906058_3b9d_11ea_8d38_ac87a331a2fbrow2_col1\" class=\"data row2 col1\" >22.1%</td>\n",
       "                        <td id=\"T_92906058_3b9d_11ea_8d38_ac87a331a2fbrow2_col2\" class=\"data row2 col2\" >10.8%</td>\n",
       "                        <td id=\"T_92906058_3b9d_11ea_8d38_ac87a331a2fbrow2_col3\" class=\"data row2 col3\" >4.2%</td>\n",
       "                        <td id=\"T_92906058_3b9d_11ea_8d38_ac87a331a2fbrow2_col4\" class=\"data row2 col4\" >11.3%</td>\n",
       "                        <td id=\"T_92906058_3b9d_11ea_8d38_ac87a331a2fbrow2_col5\" class=\"data row2 col5\" >46.1%</td>\n",
       "                        <td id=\"T_92906058_3b9d_11ea_8d38_ac87a331a2fbrow2_col6\" class=\"data row2 col6\" >29.0%</td>\n",
       "                        <td id=\"T_92906058_3b9d_11ea_8d38_ac87a331a2fbrow2_col7\" class=\"data row2 col7\" >102.1%</td>\n",
       "                        <td id=\"T_92906058_3b9d_11ea_8d38_ac87a331a2fbrow2_col8\" class=\"data row2 col8\" >612.9%</td>\n",
       "                        <td id=\"T_92906058_3b9d_11ea_8d38_ac87a331a2fbrow2_col9\" class=\"data row2 col9\" >364.4%</td>\n",
       "            </tr>\n",
       "            <tr>\n",
       "                        <th id=\"T_92906058_3b9d_11ea_8d38_ac87a331a2fblevel0_row3\" class=\"row_heading level0 row3\" >V</th>\n",
       "                        <td id=\"T_92906058_3b9d_11ea_8d38_ac87a331a2fbrow3_col0\" class=\"data row3 col0\" >9.7%</td>\n",
       "                        <td id=\"T_92906058_3b9d_11ea_8d38_ac87a331a2fbrow3_col1\" class=\"data row3 col1\" >7.9%</td>\n",
       "                        <td id=\"T_92906058_3b9d_11ea_8d38_ac87a331a2fbrow3_col2\" class=\"data row3 col2\" >11.0%</td>\n",
       "                        <td id=\"T_92906058_3b9d_11ea_8d38_ac87a331a2fbrow3_col3\" class=\"data row3 col3\" >9.6%</td>\n",
       "                        <td id=\"T_92906058_3b9d_11ea_8d38_ac87a331a2fbrow3_col4\" class=\"data row3 col4\" >17.3%</td>\n",
       "                        <td id=\"T_92906058_3b9d_11ea_8d38_ac87a331a2fbrow3_col5\" class=\"data row3 col5\" >-16.4%</td>\n",
       "                        <td id=\"T_92906058_3b9d_11ea_8d38_ac87a331a2fbrow3_col6\" class=\"data row3 col6\" >9.2%</td>\n",
       "                        <td id=\"T_92906058_3b9d_11ea_8d38_ac87a331a2fbrow3_col7\" class=\"data row3 col7\" >-1.2%</td>\n",
       "                        <td id=\"T_92906058_3b9d_11ea_8d38_ac87a331a2fbrow3_col8\" class=\"data row3 col8\" >-1048.6%</td>\n",
       "                        <td id=\"T_92906058_3b9d_11ea_8d38_ac87a331a2fbrow3_col9\" class=\"data row3 col9\" >-2.8%</td>\n",
       "            </tr>\n",
       "            <tr>\n",
       "                        <th id=\"T_92906058_3b9d_11ea_8d38_ac87a331a2fblevel0_row4\" class=\"row_heading level0 row4\" >TSLA</th>\n",
       "                        <td id=\"T_92906058_3b9d_11ea_8d38_ac87a331a2fbrow4_col0\" class=\"data row4 col0\" >0.5%</td>\n",
       "                        <td id=\"T_92906058_3b9d_11ea_8d38_ac87a331a2fbrow4_col1\" class=\"data row4 col1\" >0.5%</td>\n",
       "                        <td id=\"T_92906058_3b9d_11ea_8d38_ac87a331a2fbrow4_col2\" class=\"data row4 col2\" >0.9%</td>\n",
       "                        <td id=\"T_92906058_3b9d_11ea_8d38_ac87a331a2fbrow4_col3\" class=\"data row4 col3\" >26.5%</td>\n",
       "                        <td id=\"T_92906058_3b9d_11ea_8d38_ac87a331a2fbrow4_col4\" class=\"data row4 col4\" >-53.1%</td>\n",
       "                        <td id=\"T_92906058_3b9d_11ea_8d38_ac87a331a2fbrow4_col5\" class=\"data row4 col5\" >9.8%</td>\n",
       "                        <td id=\"T_92906058_3b9d_11ea_8d38_ac87a331a2fbrow4_col6\" class=\"data row4 col6\" >0.7%</td>\n",
       "                        <td id=\"T_92906058_3b9d_11ea_8d38_ac87a331a2fbrow4_col7\" class=\"data row4 col7\" >-5.7%</td>\n",
       "                        <td id=\"T_92906058_3b9d_11ea_8d38_ac87a331a2fbrow4_col8\" class=\"data row4 col8\" >31.0%</td>\n",
       "                        <td id=\"T_92906058_3b9d_11ea_8d38_ac87a331a2fbrow4_col9\" class=\"data row4 col9\" >7.0%</td>\n",
       "            </tr>\n",
       "            <tr>\n",
       "                        <th id=\"T_92906058_3b9d_11ea_8d38_ac87a331a2fblevel0_row5\" class=\"row_heading level0 row5\" >MSFT</th>\n",
       "                        <td id=\"T_92906058_3b9d_11ea_8d38_ac87a331a2fbrow5_col0\" class=\"data row5 col0\" >-5.3%</td>\n",
       "                        <td id=\"T_92906058_3b9d_11ea_8d38_ac87a331a2fbrow5_col1\" class=\"data row5 col1\" >0.0%</td>\n",
       "                        <td id=\"T_92906058_3b9d_11ea_8d38_ac87a331a2fbrow5_col2\" class=\"data row5 col2\" >1.7%</td>\n",
       "                        <td id=\"T_92906058_3b9d_11ea_8d38_ac87a331a2fbrow5_col3\" class=\"data row5 col3\" >11.4%</td>\n",
       "                        <td id=\"T_92906058_3b9d_11ea_8d38_ac87a331a2fbrow5_col4\" class=\"data row5 col4\" >22.2%</td>\n",
       "                        <td id=\"T_92906058_3b9d_11ea_8d38_ac87a331a2fbrow5_col5\" class=\"data row5 col5\" >-34.3%</td>\n",
       "                        <td id=\"T_92906058_3b9d_11ea_8d38_ac87a331a2fbrow5_col6\" class=\"data row5 col6\" >5.4%</td>\n",
       "                        <td id=\"T_92906058_3b9d_11ea_8d38_ac87a331a2fbrow5_col7\" class=\"data row5 col7\" >11.5%</td>\n",
       "                        <td id=\"T_92906058_3b9d_11ea_8d38_ac87a331a2fbrow5_col8\" class=\"data row5 col8\" >-1019.0%</td>\n",
       "                        <td id=\"T_92906058_3b9d_11ea_8d38_ac87a331a2fbrow5_col9\" class=\"data row5 col9\" >-4.3%</td>\n",
       "            </tr>\n",
       "            <tr>\n",
       "                        <th id=\"T_92906058_3b9d_11ea_8d38_ac87a331a2fblevel0_row6\" class=\"row_heading level0 row6\" >UNH</th>\n",
       "                        <td id=\"T_92906058_3b9d_11ea_8d38_ac87a331a2fbrow6_col0\" class=\"data row6 col0\" >11.1%</td>\n",
       "                        <td id=\"T_92906058_3b9d_11ea_8d38_ac87a331a2fbrow6_col1\" class=\"data row6 col1\" >10.8%</td>\n",
       "                        <td id=\"T_92906058_3b9d_11ea_8d38_ac87a331a2fbrow6_col2\" class=\"data row6 col2\" >15.5%</td>\n",
       "                        <td id=\"T_92906058_3b9d_11ea_8d38_ac87a331a2fbrow6_col3\" class=\"data row6 col3\" >7.0%</td>\n",
       "                        <td id=\"T_92906058_3b9d_11ea_8d38_ac87a331a2fbrow6_col4\" class=\"data row6 col4\" >16.8%</td>\n",
       "                        <td id=\"T_92906058_3b9d_11ea_8d38_ac87a331a2fbrow6_col5\" class=\"data row6 col5\" >19.2%</td>\n",
       "                        <td id=\"T_92906058_3b9d_11ea_8d38_ac87a331a2fbrow6_col6\" class=\"data row6 col6\" >56.6%</td>\n",
       "                        <td id=\"T_92906058_3b9d_11ea_8d38_ac87a331a2fbrow6_col7\" class=\"data row6 col7\" >-288.7%</td>\n",
       "                        <td id=\"T_92906058_3b9d_11ea_8d38_ac87a331a2fbrow6_col8\" class=\"data row6 col8\" >567.0%</td>\n",
       "                        <td id=\"T_92906058_3b9d_11ea_8d38_ac87a331a2fbrow6_col9\" class=\"data row6 col9\" >-36.6%</td>\n",
       "            </tr>\n",
       "            <tr>\n",
       "                        <th id=\"T_92906058_3b9d_11ea_8d38_ac87a331a2fblevel0_row7\" class=\"row_heading level0 row7\" >JPM</th>\n",
       "                        <td id=\"T_92906058_3b9d_11ea_8d38_ac87a331a2fbrow7_col0\" class=\"data row7 col0\" >8.2%</td>\n",
       "                        <td id=\"T_92906058_3b9d_11ea_8d38_ac87a331a2fbrow7_col1\" class=\"data row7 col1\" >7.5%</td>\n",
       "                        <td id=\"T_92906058_3b9d_11ea_8d38_ac87a331a2fbrow7_col2\" class=\"data row7 col2\" >12.7%</td>\n",
       "                        <td id=\"T_92906058_3b9d_11ea_8d38_ac87a331a2fbrow7_col3\" class=\"data row7 col3\" >8.3%</td>\n",
       "                        <td id=\"T_92906058_3b9d_11ea_8d38_ac87a331a2fbrow7_col4\" class=\"data row7 col4\" >18.5%</td>\n",
       "                        <td id=\"T_92906058_3b9d_11ea_8d38_ac87a331a2fbrow7_col5\" class=\"data row7 col5\" >54.4%</td>\n",
       "                        <td id=\"T_92906058_3b9d_11ea_8d38_ac87a331a2fbrow7_col6\" class=\"data row7 col6\" >-9.0%</td>\n",
       "                        <td id=\"T_92906058_3b9d_11ea_8d38_ac87a331a2fbrow7_col7\" class=\"data row7 col7\" >-52.9%</td>\n",
       "                        <td id=\"T_92906058_3b9d_11ea_8d38_ac87a331a2fbrow7_col8\" class=\"data row7 col8\" >-466.5%</td>\n",
       "                        <td id=\"T_92906058_3b9d_11ea_8d38_ac87a331a2fbrow7_col9\" class=\"data row7 col9\" >88.6%</td>\n",
       "            </tr>\n",
       "            <tr>\n",
       "                        <th id=\"T_92906058_3b9d_11ea_8d38_ac87a331a2fblevel0_row8\" class=\"row_heading level0 row8\" >CAT</th>\n",
       "                        <td id=\"T_92906058_3b9d_11ea_8d38_ac87a331a2fbrow8_col0\" class=\"data row8 col0\" >-0.0%</td>\n",
       "                        <td id=\"T_92906058_3b9d_11ea_8d38_ac87a331a2fbrow8_col1\" class=\"data row8 col1\" >0.0%</td>\n",
       "                        <td id=\"T_92906058_3b9d_11ea_8d38_ac87a331a2fbrow8_col2\" class=\"data row8 col2\" >0.0%</td>\n",
       "                        <td id=\"T_92906058_3b9d_11ea_8d38_ac87a331a2fbrow8_col3\" class=\"data row8 col3\" >10.7%</td>\n",
       "                        <td id=\"T_92906058_3b9d_11ea_8d38_ac87a331a2fbrow8_col4\" class=\"data row8 col4\" >24.5%</td>\n",
       "                        <td id=\"T_92906058_3b9d_11ea_8d38_ac87a331a2fbrow8_col5\" class=\"data row8 col5\" >90.9%</td>\n",
       "                        <td id=\"T_92906058_3b9d_11ea_8d38_ac87a331a2fbrow8_col6\" class=\"data row8 col6\" >-77.8%</td>\n",
       "                        <td id=\"T_92906058_3b9d_11ea_8d38_ac87a331a2fbrow8_col7\" class=\"data row8 col7\" >19.3%</td>\n",
       "                        <td id=\"T_92906058_3b9d_11ea_8d38_ac87a331a2fbrow8_col8\" class=\"data row8 col8\" >476.8%</td>\n",
       "                        <td id=\"T_92906058_3b9d_11ea_8d38_ac87a331a2fbrow8_col9\" class=\"data row8 col9\" >-114.6%</td>\n",
       "            </tr>\n",
       "            <tr>\n",
       "                        <th id=\"T_92906058_3b9d_11ea_8d38_ac87a331a2fblevel0_row9\" class=\"row_heading level0 row9\" >PG</th>\n",
       "                        <td id=\"T_92906058_3b9d_11ea_8d38_ac87a331a2fbrow9_col0\" class=\"data row9 col0\" >36.5%</td>\n",
       "                        <td id=\"T_92906058_3b9d_11ea_8d38_ac87a331a2fbrow9_col1\" class=\"data row9 col1\" >35.7%</td>\n",
       "                        <td id=\"T_92906058_3b9d_11ea_8d38_ac87a331a2fbrow9_col2\" class=\"data row9 col2\" >24.4%</td>\n",
       "                        <td id=\"T_92906058_3b9d_11ea_8d38_ac87a331a2fbrow9_col3\" class=\"data row9 col3\" >3.9%</td>\n",
       "                        <td id=\"T_92906058_3b9d_11ea_8d38_ac87a331a2fbrow9_col4\" class=\"data row9 col4\" >8.7%</td>\n",
       "                        <td id=\"T_92906058_3b9d_11ea_8d38_ac87a331a2fbrow9_col5\" class=\"data row9 col5\" >19.3%</td>\n",
       "                        <td id=\"T_92906058_3b9d_11ea_8d38_ac87a331a2fbrow9_col6\" class=\"data row9 col6\" >35.1%</td>\n",
       "                        <td id=\"T_92906058_3b9d_11ea_8d38_ac87a331a2fbrow9_col7\" class=\"data row9 col7\" >94.3%</td>\n",
       "                        <td id=\"T_92906058_3b9d_11ea_8d38_ac87a331a2fbrow9_col8\" class=\"data row9 col8\" >-382.5%</td>\n",
       "                        <td id=\"T_92906058_3b9d_11ea_8d38_ac87a331a2fbrow9_col9\" class=\"data row9 col9\" >50.6%</td>\n",
       "            </tr>\n",
       "    </tbody></table>"
      ],
      "text/plain": [
       "<pandas.io.formats.style.Styler at 0x12a0da898>"
      ]
     },
     "execution_count": 1,
     "metadata": {},
     "output_type": "execute_result"
    }
   ],
   "source": [
    "# metrics      \n",
    "portfolio = ['WMT','AMZN','T','V','TSLA','MSFT','UNH','JPM','CAT','PG'] \n",
    "px = get_price(portfolio,5)\n",
    "returns, cov, corr = hist_return_cov_corr(px)\n",
    "\n",
    "# find weight\n",
    "eigen_w = eigen_weight(cov,0.9)\n",
    "\n",
    "# display all optimal weights in a dataframe\n",
    "weight_table = pd.DataFrame(data= min_var_w_LM, columns = ['min_var_weight_LM'], index = portfolio)\n",
    "weight_table['min_var_weight_no_ss'] = min_var_w_no_ss\n",
    "weight_table['max_sharpe_weight_no_ss'] = max_sharpe_w_no_ss\n",
    "\n",
    "for i in range(np.size(eigen_w,1) ):\n",
    "    weight_table['eigen_' + str(i+1)] = eigen_w[:,i]\n",
    "\n",
    "#print\n",
    "weight_table.style.format(\"{:.1%}\")"
   ]
  },
  {
   "cell_type": "markdown",
   "metadata": {},
   "source": [
    "**Cummulative return for different allocation objectives**<br>\n",
    "\n",
    "The code below plots the performance.<br>"
   ]
  },
  {
   "cell_type": "code",
   "execution_count": 21,
   "metadata": {},
   "outputs": [
    {
     "data": {
      "text/plain": [
       "<matplotlib.legend.Legend at 0x13431be48>"
      ]
     },
     "execution_count": 21,
     "metadata": {},
     "output_type": "execute_result"
    },
    {
     "data": {
      "image/png": "[encoded data removed]",
      "text/plain": [
       "<Figure size 432x288 with 1 Axes>"
      ]
     },
     "metadata": {
      "needs_background": "light"
     },
     "output_type": "display_data"
    }
   ],
   "source": [
    "# plot cummulative return using diff weights\n",
    "cum_r = cum_returns(px)\n",
    "min_var_w_LM_r = portfolio_return(min_var_w_LM,cum_r)\n",
    "min_var_w_no_ss_r = portfolio_return(min_var_w_no_ss,cum_r)\n",
    "max_sharpe_w_no_ss_r = portfolio_return(max_sharpe_w_no_ss,cum_r)\n",
    "eigen_w_1_r = portfolio_return(eigen_w[:,0],cum_r)\n",
    "eigen_w_2_r = portfolio_return(eigen_w[:,1],cum_r)\n",
    "\n",
    "plt.plot(min_var_w_LM_r, color='red', label=\"min_var\")\n",
    "plt.plot(min_var_w_no_ss_r, color='green', label=\"min_var_no_ss\")\n",
    "plt.plot(max_sharpe_w_no_ss_r, color='cyan', label=\"max_sharpe\")\n",
    "plt.plot(eigen_w_1_r, color='blue', label=\"eigen1\")\n",
    "plt.plot(eigen_w_2_r, color='orange', label=\"eigen2\")\n",
    "plt.legend(loc=\"upper left\")"
   ]
  },
  {
   "cell_type": "markdown",
   "metadata": {},
   "source": [
    "**Summary**<br>\n",
    "The EVec with the largest Eval (Eigen1) have similar performance with Max_Sharpe.<br>\n",
    "Surprisingly, EVec with the 2nd largest Eval(Eigen2) outperform Eigen1, almost all the time. But also experienced greater volatility than Eigen1.<br>\n",
    "Comparing Eigen2 and Eigen1, there are 2 main differences:<br>\n",
    "1. Eigen2 double the weights of Eigen1, except TSLA.\n",
    "2. Eigen2 shorts stock (TSLA) but Eigen1 does not.\n",
    "\n",
    "These 2 features make the difference for Eigen2."
   ]
  }
 ],
 "metadata": {
  "kernelspec": {
   "display_name": "Python 3",
   "language": "python",
   "name": "python3"
  },
  "language_info": {
   "codemirror_mode": {
    "name": "ipython",
    "version": 3
   },
   "file_extension": ".py",
   "mimetype": "text/x-python",
   "name": "python",
   "nbconvert_exporter": "python",
   "pygments_lexer": "ipython3",
   "version": "3.6.8"
  }
 },
 "nbformat": 4,
 "nbformat_minor": 2
}
